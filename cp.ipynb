{
 "cells": [
  {
   "cell_type": "code",
   "execution_count": 13,
   "metadata": {},
   "outputs": [],
   "source": [
    "import numpy as np\n",
    "import matplotlib.pyplot as plt\n",
    "import random\n",
    "import time"
   ]
  },
  {
   "cell_type": "code",
   "execution_count": 14,
   "metadata": {},
   "outputs": [],
   "source": [
    "N = 30  # Número de dias\n",
    "mu = 100  # Média da demanda diária\n",
    "sigma = 20  # Desvio padrão da demanda diária \n",
    "c_storeage = 1  # Custo de armazenagem por unidade\n",
    "c_order = 50  # Custo de pedido\n",
    "c_shortage = 10  # Custo de falta por unidade"
   ]
  },
  {
   "cell_type": "code",
   "execution_count": 15,
   "metadata": {},
   "outputs": [],
   "source": [
    "def generate_demand():\n",
    "    return max(0, np.random.normal(mu, sigma))"
   ]
  },
  {
   "cell_type": "code",
   "execution_count": 16,
   "metadata": {},
   "outputs": [],
   "source": [
    "def calculate(estoque_inicial, demanda_diaria):\n",
    "    estoque = estoque_inicial\n",
    "    custo_total = 0\n",
    "    for demanda in demanda_diaria:\n",
    "        if estoque >= demanda:\n",
    "            custo_total += c_storeage * estoque  # Custo de armazenagem\n",
    "            estoque -= demanda\n",
    "        else:\n",
    "            custo_total += c_shortage * (demanda - estoque)  # Custo de falta\n",
    "            estoque = 0\n",
    "    return custo_total"
   ]
  },
  {
   "cell_type": "code",
   "execution_count": 17,
   "metadata": {},
   "outputs": [],
   "source": [
    "def forca_bruta():\n",
    "    melhores_resultados = []\n",
    "    menor_custo = float('inf')\n",
    "    \n",
    "    for estoque_inicial in range(1, 201):\n",
    "        demanda_diaria = np.random.normal(mu, sigma, N).astype(int)\n",
    "        custo = calcular_custo(estoque_inicial, demanda_diaria)\n",
    "        if custo < menor_custo:\n",
    "            menor_custo = custo\n",
    "            melhores_resultados.append((estoque_inicial, custo))\n",
    "    return min(melhores_resultados, key=lambda x: x[1])"
   ]
  },
  {
   "cell_type": "code",
   "execution_count": 18,
   "metadata": {},
   "outputs": [],
   "source": [
    "def dividir_para_conquistar(n):\n",
    "    if n <= 1:\n",
    "        return forca_bruta()\n",
    "    else:\n",
    "        meio = n // 2\n",
    "        left = dividir_para_conquistar(meio)\n",
    "        right = dividir_para_conquistar(n - meio)\n",
    "        return min(left, right, key=lambda x: x[1])"
   ]
  },
  {
   "cell_type": "code",
   "execution_count": 19,
   "metadata": {},
   "outputs": [],
   "source": [
    "def recursao_com_memoizacao(n, estoque_inicial):\n",
    "    if n == 0:\n",
    "        return 0\n",
    "    demanda = int(np.random.normal(mu, sigma))\n",
    "    if estoque_inicial >= demanda:\n",
    "        custo = c_shortage * estoque_inicial + recursao_com_memoizacao(n - 1, estoque_inicial - demanda)\n",
    "    else:\n",
    "        custo = c_shortage * (demanda - estoque_inicial) + recursao_com_memoizacao(n - 1, 0)\n",
    "    return custo\n"
   ]
  },
  {
   "cell_type": "code",
   "execution_count": 20,
   "metadata": {},
   "outputs": [],
   "source": [
    "def memoization():\n",
    "    melhores_resultados = []\n",
    "    menor_custo = float('inf')\n",
    "    for estoque_inicial in range(1, 201):\n",
    "        custo = recursao_com_memoizacao(N, estoque_inicial)\n",
    "        if custo < menor_custo:\n",
    "            menor_custo = custo\n",
    "            melhores_resultados.append((estoque_inicial, custo))\n",
    "    return min(melhores_resultados, key=lambda x: x[1])\n"
   ]
  },
  {
   "cell_type": "code",
   "execution_count": 21,
   "metadata": {},
   "outputs": [],
   "source": [
    "def monte_carlo(simulacoes=1000):\n",
    "    melhores_resultados = []\n",
    "    menor_custo = float('inf')\n",
    "    for estoque_inicial in range(1, 201):\n",
    "        custos_simulacao = []\n",
    "        for _ in range(simulacoes):\n",
    "            demanda_diaria = np.random.normal(mu, sigma, N).astype(int)\n",
    "            custo = calcular_custo(estoque_inicial, demanda_diaria)\n",
    "            custos_simulacao.append(custo)\n",
    "        custo_medio = np.mean(custos_simulacao)\n",
    "        if custo_medio < menor_custo:\n",
    "            menor_custo = custo_medio\n",
    "            melhores_resultados.append((estoque_inicial, custo_medio))\n",
    "    return min(melhores_resultados, key=lambda x: x[1])\n"
   ]
  },
  {
   "cell_type": "code",
   "execution_count": 22,
   "metadata": {},
   "outputs": [
    {
     "name": "stdout",
     "output_type": "stream",
     "text": [
      "Força Bruta: Estoque inicial = 170, Custo = 25680, Tempo = 0.0020s\n",
      "Dividir para Conquistar: Estoque inicial = 163, Custo = 24643, Tempo = 0.0668s\n",
      "Recursão com Memoização: Estoque inicial = 106, Custo = 26620, Tempo = 0.0035s\n",
      "Monte Carlo: Estoque inicial = 198, Custo = 28107.895, Tempo = 1.5803s\n"
     ]
    }
   ],
   "source": [
    "# Força Bruta\n",
    "start = time.time()\n",
    "resultado_forca_bruta = forca_bruta()\n",
    "tempo_forca_bruta = time.time() - start\n",
    "\n",
    "# Dividir para Conquistar\n",
    "start = time.time()\n",
    "resultado_dividir = dividir_para_conquistar(N)\n",
    "tempo_dividir = time.time() - start\n",
    "\n",
    "# Memoization\n",
    "start = time.time()\n",
    "resultado_memoizacao = memoization()\n",
    "tempo_memoizacao = time.time() - start\n",
    "\n",
    "# Monte Carlo\n",
    "start = time.time()\n",
    "resultado_monte_carlo = monte_carlo()\n",
    "tempo_monte_carlo = time.time() - start\n",
    "\n",
    "# Exibir resultados\n",
    "print(f\"Força Bruta: Estoque inicial = {resultado_forca_bruta[0]}, Custo = {resultado_forca_bruta[1]}, Tempo = {tempo_forca_bruta:.4f}s\")\n",
    "print(f\"Dividir para Conquistar: Estoque inicial = {resultado_dividir[0]}, Custo = {resultado_dividir[1]}, Tempo = {tempo_dividir:.4f}s\")\n",
    "print(f\"Recursão com Memoização: Estoque inicial = {resultado_memoizacao[0]}, Custo = {resultado_memoizacao[1]}, Tempo = {tempo_memoizacao:.4f}s\")\n",
    "print(f\"Monte Carlo: Estoque inicial = {resultado_monte_carlo[0]}, Custo = {resultado_monte_carlo[1]}, Tempo = {tempo_monte_carlo:.4f}s\")\n",
    "\n",
    "# Plotar tempo de execução\n",
    "tempos = [tempo_forca_bruta, tempo_dividir, tempo_memoizacao, tempo_monte_carlo]\n",
    "labels = ['Força Bruta', 'Dividir para Conquistar', 'Memoização', 'Monte Carlo']"
   ]
  },
  {
   "cell_type": "code",
   "execution_count": 23,
   "metadata": {},
   "outputs": [
    {
     "data": {
      "image/png": "[encoded data removed]",
      "text/plain": [
       "<Figure size 640x480 with 1 Axes>"
      ]
     },
     "metadata": {},
     "output_type": "display_data"
    }
   ],
   "source": [
    "plt.barh(labels, tempos, color=['blue', 'orange', 'green', 'red'])\n",
    "plt.xlabel('Tempo (segundos)')\n",
    "plt.title('Comparação de Tempo de Execução')\n",
    "plt.show()"
   ]
  }
 ],
 "metadata": {
  "kernelspec": {
   "display_name": "Python 3",
   "language": "python",
   "name": "python3"
  },
  "language_info": {
   "codemirror_mode": {
    "name": "ipython",
    "version": 3
   },
   "file_extension": ".py",
   "mimetype": "text/x-python",
   "name": "python",
   "nbconvert_exporter": "python",
   "pygments_lexer": "ipython3",
   "version": "3.12.2"
  }
 },
 "nbformat": 4,
 "nbformat_minor": 2
}
