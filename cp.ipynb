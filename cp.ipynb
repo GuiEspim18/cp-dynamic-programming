{
 "cells": [
  {
   "cell_type": "markdown",
   "metadata": {},
   "source": [
    "# RM99499 – Guilherme Monteiro Espim\n",
    "# RM99279 – João Paulo Fonseca Zamperlini"
   ]
  },
  {
   "cell_type": "markdown",
   "metadata": {},
   "source": [
    "# Introdução\n",
    "\n",
    "### Este notebook versa sobre a análise de diferentes abordagens para resolver um problema de otimização relacionado à gestão de estoques. Através de métodos como Força Bruta, Dividir para Conquistar, Memoização e Monte Carlo, exploramos como cada técnica pode ser utilizada para calcular o custo total associado a diferentes estratégias de armazenamento, levando em consideração a demanda diária de produtos. O objetivo é comparar a eficiência e o desempenho de cada método em termos de tempo de execução, fornecendo insights sobre qual abordagem é mais eficaz em diferentes cenários."
   ]
  },
  {
   "cell_type": "markdown",
   "metadata": {},
   "source": [
    "# Imports"
   ]
  },
  {
   "cell_type": "code",
   "execution_count": 12,
   "metadata": {},
   "outputs": [],
   "source": [
    "import numpy as np\n",
    "import matplotlib.pyplot as plt\n",
    "import random\n",
    "import time"
   ]
  },
  {
   "cell_type": "markdown",
   "metadata": {},
   "source": [
    "# Parâmetros"
   ]
  },
  {
   "cell_type": "code",
   "execution_count": 13,
   "metadata": {},
   "outputs": [],
   "source": [
    "N = 30  # Número de dias\n",
    "mu = 100  # Média da demanda diária\n",
    "sigma = 20  # Desvio padrão da demanda diária \n",
    "c_storeage = 1  # Custo de armazenagem por unidade\n",
    "c_order = 50  # Custo de pedido\n",
    "c_shortage = 10  # Custo de falta por unidade"
   ]
  },
  {
   "cell_type": "markdown",
   "metadata": {},
   "source": [
    "# Funções"
   ]
  },
  {
   "cell_type": "markdown",
   "metadata": {},
   "source": [
    "### Esta função gera um valor de demanda aleatória a partir de uma distribuição normal, utilizando uma média (`mu`) e um desvio padrão (`sigma`). O resultado é ajustado para que seja sempre zero ou positivo."
   ]
  },
  {
   "cell_type": "code",
   "execution_count": 14,
   "metadata": {},
   "outputs": [],
   "source": [
    "def generate_demand():\n",
    "    return max(0, np.random.normal(mu, sigma)) # Gera uma demanda aleatória não negativa usando distribuição normal"
   ]
  },
  {
   "cell_type": "markdown",
   "metadata": {},
   "source": [
    "### Esta função calcula o lucro total com base no estoque inicial e na demanda diária, considerando custos de armazenamento e falta de produtos."
   ]
  },
  {
   "cell_type": "code",
   "execution_count": 15,
   "metadata": {},
   "outputs": [],
   "source": [
    "def calculate_profit(initial_storage, daily_demand):\n",
    "    storage = initial_storage  # Inicializa o estoque com o valor inicial\n",
    "    total_profit = 0  # Inicializa o lucro total como zero\n",
    "    \n",
    "    for demand in daily_demand:  # Itera sobre a demanda diária\n",
    "        if storage >= demand:  # Verifica se há estoque suficiente para atender a demanda\n",
    "            total_profit += c_storeage * storage  # Adiciona o custo de armazenagem ao lucro total\n",
    "            storage -= demand  # Reduz o estoque pela quantidade da demanda atendida\n",
    "        else:  # Se não houver estoque suficiente\n",
    "            total_profit += c_shortage * (demand - storage)  # Adiciona o custo de falta ao lucro total\n",
    "            storage = 0  # O estoque se torna zero após atender parte da demanda\n",
    "        \n",
    "    return total_profit  # Retorna o lucro total calculado"
   ]
  },
  {
   "cell_type": "markdown",
   "metadata": {},
   "source": [
    "### Esta função utiliza uma abordagem de força bruta para encontrar o estoque inicial que minimiza o custo total. "
   ]
  },
  {
   "cell_type": "code",
   "execution_count": 16,
   "metadata": {},
   "outputs": [],
   "source": [
    "def brute_force():\n",
    "    best_results = []  # Lista para armazenar os melhores resultados (estoque inicial e custo)\n",
    "    lower_cost = float('inf')  # Inicializa o custo mais baixo como infinito\n",
    "    \n",
    "    for initial_storage in range(1, 201):  # Itera sobre estoques iniciais de 1 a 200\n",
    "        daily_demand = np.random.normal(mu, sigma, N).astype(int)  # Gera a demanda diária aleatória usando distribuição normal\n",
    "        cost = calculate_profit(initial_storage, daily_demand)  # Calcula o custo com a função calculate_profit\n",
    "        if cost < lower_cost:  # Verifica se o custo atual é menor que o custo mais baixo encontrado\n",
    "            lower_cost = cost  # Atualiza o custo mais baixo\n",
    "            best_results.append((initial_storage, cost))  # Adiciona o estoque inicial e custo à lista de melhores resultados\n",
    "            \n",
    "    return min(best_results, key=lambda x: x[1])  # Retorna o estoque inicial com o menor custo "
   ]
  },
  {
   "cell_type": "markdown",
   "metadata": {},
   "source": [
    "### Esta função implementa uma abordagem de divisão e conquista para encontrar o estoque inicial que minimiza o custo total."
   ]
  },
  {
   "cell_type": "code",
   "execution_count": 17,
   "metadata": {},
   "outputs": [],
   "source": [
    "def divide_to_conquire(n):\n",
    "    if n <= 1:  # Caso base: se n for 1 ou menor, chama a função brute_force()\n",
    "        return brute_force()  # Retorna o resultado da busca de força bruta\n",
    "    else:  # Se n for maior que 1\n",
    "        median = n // 2  # Calcula a mediana para dividir o problema\n",
    "        left = divide_to_conquire(median)  # Chama a função recursivamente para a metade esquerda\n",
    "        right = divide_to_conquire(n - median)  # Chama a função recursivamente para a metade direita\n",
    "        return min(left, right, key=lambda x: x[1])  # Retorna o resultado com o menor custo entre as duas metades"
   ]
  },
  {
   "cell_type": "markdown",
   "metadata": {},
   "source": [
    "### Esta função utiliza a abordagem de recursão para calcular o custo total associado à demanda ao longo de `n` dias, considerando um estoque inicial."
   ]
  },
  {
   "cell_type": "code",
   "execution_count": 18,
   "metadata": {},
   "outputs": [],
   "source": [
    "def recursion_memoization(n, initial_storage):\n",
    "    if n == 0:  # Caso base: se não houver mais dias, o custo é 0\n",
    "        return 0\n",
    "    demand = int(np.random.normal(mu, sigma))  # Gera a demanda diária usando distribuição normal\n",
    "    if initial_storage >= demand:  # Se o estoque inicial é suficiente para atender à demanda\n",
    "        cost = c_shortage * initial_storage + recursion_memoization(n - 1, initial_storage - demand)  # Custo de falta + chamada recursiva com estoque atualizado\n",
    "    else:  # Se o estoque inicial não é suficiente\n",
    "        cost = c_shortage * (demand - initial_storage) + recursion_memoization(n - 1, 0)  # Custo de falta + chamada recursiva com estoque zerado\n",
    "    return cost  # Retorna o custo total calculado\n"
   ]
  },
  {
   "cell_type": "markdown",
   "metadata": {},
   "source": [
    "### Esta função avalia diferentes níveis de estoque inicial para calcular o custo total usando a função de recursão com memoização."
   ]
  },
  {
   "cell_type": "code",
   "execution_count": 19,
   "metadata": {},
   "outputs": [],
   "source": [
    "def memoization():\n",
    "    best_results = []  # Lista para armazenar os melhores resultados (estoque inicial e custo)\n",
    "    lower_cost = float('inf')  # Inicializa o custo mais baixo como infinito\n",
    "    for initla_storage in range(1, 201):  # Itera sobre diferentes valores de estoque inicial de 1 a 200\n",
    "        cost = recursion_memoization(N, initla_storage)  # Calcula o custo usando a função de recursão com memoização\n",
    "        if cost < lower_cost:  # Se o custo calculado for menor que o menor custo encontrado até agora\n",
    "            lower_cost = cost  # Atualiza o menor custo\n",
    "            best_results.append((initla_storage, cost))  # Adiciona o estoque inicial e custo à lista de melhores resultados\n",
    "    return min(best_results, key=lambda x: x[1])  # Retorna o estoque inicial com o menor custo encontrado\n"
   ]
  },
  {
   "cell_type": "markdown",
   "metadata": {},
   "source": [
    "### Esta função utiliza o método de Monte Carlo para simular diferentes cenários de demanda diária e calcular o custo total associado a cada nível de estoque inicial."
   ]
  },
  {
   "cell_type": "code",
   "execution_count": 20,
   "metadata": {},
   "outputs": [],
   "source": [
    "def monte_carlo(simulations=1000):\n",
    "    best_results = []  # Lista para armazenar os melhores resultados (estoque inicial e custo médio)\n",
    "    lower_cost = float('inf')  # Inicializa o custo mais baixo como infinito\n",
    "    for initial_storage in range(1, 201):  # Itera sobre diferentes valores de estoque inicial de 1 a 200\n",
    "        simulation_costs = []  # Lista para armazenar os custos de cada simulação\n",
    "        for _ in range(simulations):  # Realiza o número especificado de simulações\n",
    "            daily_demand = np.random.normal(mu, sigma, N).astype(int)  # Gera a demanda diária aleatória\n",
    "            cost = calculate_profit(initial_storage, daily_demand)  # Calcula o custo total para a demanda gerada\n",
    "            simulation_costs.append(cost)  # Adiciona o custo à lista de custos da simulação\n",
    "        mediam_cost = np.mean(simulation_costs)  # Calcula o custo médio das simulações\n",
    "        if mediam_cost < lower_cost:  # Se o custo médio calculado for menor que o menor custo encontrado até agora\n",
    "            lower_cost = mediam_cost  # Atualiza o menor custo\n",
    "            best_results.append((initial_storage, mediam_cost))  # Adiciona o estoque inicial e custo à lista de melhores resultados\n",
    "    return min(best_results, key=lambda x: x[1])  # Retorna o estoque inicial com o menor custo médio encontrado\n"
   ]
  },
  {
   "cell_type": "markdown",
   "metadata": {},
   "source": [
    "# Execução do código"
   ]
  },
  {
   "cell_type": "code",
   "execution_count": 21,
   "metadata": {},
   "outputs": [],
   "source": [
    "# Medindo o tempo de execução para o método de Força Bruta\n",
    "start = time.time()  # Registra o tempo atual antes de executar a função\n",
    "resultado_forca_bruta = brute_force()  # Executa a função brute_force e armazena o resultado\n",
    "tempo_forca_bruta = time.time() - start  # Calcula o tempo que a função levou para ser executada\n",
    "\n",
    "# Medindo o tempo de execução para o método Dividir para Conquistar\n",
    "start = time.time()  # Registra o tempo atual antes de executar a função\n",
    "resultado_dividir = divide_to_conquire(N)  # Executa a função divide_to_conquire e armazena o resultado\n",
    "tempo_dividir = time.time() - start  # Calcula o tempo que a função levou para ser executada\n",
    "\n",
    "# Medindo o tempo de execução para o método de Memoization\n",
    "start = time.time()  # Registra o tempo atual antes de executar a função\n",
    "resultado_memoizacao = memoization()  # Executa a função memoization e armazena o resultado\n",
    "tempo_memoizacao = time.time() - start  # Calcula o tempo que a função levou para ser executada\n",
    "\n",
    "# Medindo o tempo de execução para o método de Monte Carlo\n",
    "start = time.time()  # Registra o tempo atual antes de executar a função\n",
    "resultado_monte_carlo = monte_carlo()  # Executa a função monte_carlo e armazena o resultado\n",
    "tempo_monte_carlo = time.time() - start  # Calcula o tempo que a função levou para ser executada\n",
    "\n",
    "# Plotando o tempo de execução de cada método\n",
    "tempos = [tempo_forca_bruta, tempo_dividir, tempo_memoizacao, tempo_monte_carlo]  # Lista com os tempos de execução\n",
    "labels = ['Força Bruta', 'Dividir para Conquistar', 'Memoização', 'Monte Carlo']  # Rótulos correspondentes para cada método\n"
   ]
  },
  {
   "cell_type": "markdown",
   "metadata": {},
   "source": [
    "# Plot de gráfico comparando as execuções"
   ]
  },
  {
   "cell_type": "code",
   "execution_count": 22,
   "metadata": {},
   "outputs": [
    {
     "data": {
      "image/png": "[encoded data removed]",
      "text/plain": [
       "<Figure size 640x480 with 1 Axes>"
      ]
     },
     "metadata": {},
     "output_type": "display_data"
    }
   ],
   "source": [
    "plt.barh(labels, tempos, color=['blue', 'orange', 'green', 'red'])\n",
    "plt.xlabel('Tempo (segundos)')\n",
    "plt.title('Comparação de Tempo de Execução')\n",
    "plt.show()"
   ]
  },
  {
   "cell_type": "markdown",
   "metadata": {},
   "source": [
    "# Conclusão\n",
    "\n",
    "### As diferentes abordagens foram implementadas e avaliadas em termos de eficiência computacional e redução de custos. A análise dos resultados ajudará a determinar a melhor estratégia de reabastecimento para a loja online, considerando a incerteza da demanda e os custos operacionais envolvidos."
   ]
  }
 ],
 "metadata": {
  "kernelspec": {
   "display_name": "Python 3",
   "language": "python",
   "name": "python3"
  },
  "language_info": {
   "codemirror_mode": {
    "name": "ipython",
    "version": 3
   },
   "file_extension": ".py",
   "mimetype": "text/x-python",
   "name": "python",
   "nbconvert_exporter": "python",
   "pygments_lexer": "ipython3",
   "version": "3.8.12"
  }
 },
 "nbformat": 4,
 "nbformat_minor": 2
}
