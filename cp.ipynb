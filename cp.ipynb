{
 "cells": [
  {
   "cell_type": "code",
   "execution_count": 1,
   "metadata": {},
   "outputs": [],
   "source": [
    "import numpy as np\n",
    "import matplotlib.pyplot as plt\n",
    "from functools import lru_cache\n",
    "import random\n",
    "import time"
   ]
  },
  {
   "cell_type": "code",
   "execution_count": null,
   "metadata": {},
   "outputs": [],
   "source": [
    "N = 30  # Número de dias\n",
    "mu = 100  # Média da demanda diária\n",
    "sigma = 20  # Desvio padrão da demanda diária \n",
    "C_armazenagem = 1  # Custo de armazenagem por unidade\n",
    "C_pedido = 50  # Custo de pedido\n",
    "C_falta = 10  # Custo de falta por unidade"
   ]
  },
  {
   "cell_type": "code",
   "execution_count": null,
   "metadata": {},
   "outputs": [],
   "source": [
    "def gerar_demanda_dia():\n",
    "    return max(0, np.random.normal(mu, sigma))"
   ]
  },
  {
   "cell_type": "code",
   "execution_count": null,
   "metadata": {},
   "outputs": [],
   "source": [
    "def calcular_custo(estoque_inicial, demanda_diaria):\n",
    "    estoque = estoque_inicial\n",
    "    custo_total = 0\n",
    "    for demanda in demanda_diaria:\n",
    "        if estoque >= demanda:\n",
    "            custo_total += C_armazenagem * estoque  # Custo de armazenagem\n",
    "            estoque -= demanda\n",
    "        else:\n",
    "            custo_total += C_falta * (demanda - estoque)  # Custo de falta\n",
    "            estoque = 0\n",
    "    return custo_total"
   ]
  },
  {
   "cell_type": "code",
   "execution_count": null,
   "metadata": {},
   "outputs": [],
   "source": [
    "def forca_bruta():\n",
    "    melhores_resultados = []\n",
    "    menor_custo = float('inf')\n",
    "    \n",
    "    for estoque_inicial in range(1, 201):\n",
    "        demanda_diaria = np.random.normal(mu, sigma, N).astype(int)\n",
    "        custo = calcular_custo(estoque_inicial, demanda_diaria)\n",
    "        if custo < menor_custo:\n",
    "            menor_custo = custo\n",
    "            melhores_resultados.append((estoque_inicial, custo))\n",
    "    return min(melhores_resultados, key=lambda x: x[1])"
   ]
  },
  {
   "cell_type": "code",
   "execution_count": null,
   "metadata": {},
   "outputs": [],
   "source": [
    "def dividir_para_conquistar(n):\n",
    "    if n <= 1:\n",
    "        return forca_bruta()\n",
    "    else:\n",
    "        meio = n // 2\n",
    "        left = dividir_para_conquistar(meio)\n",
    "        right = dividir_para_conquistar(n - meio)\n",
    "        return min(left, right, key=lambda x: x[1])"
   ]
  },
  {
   "cell_type": "code",
   "execution_count": null,
   "metadata": {},
   "outputs": [],
   "source": [
    "def recursao_com_memoizacao(n, estoque_inicial):\n",
    "    if n == 0:\n",
    "        return 0\n",
    "    demanda = int(np.random.normal(mu, sigma))\n",
    "    if estoque_inicial >= demanda:\n",
    "        custo = C_armazenagem * estoque_inicial + recursao_com_memoizacao(n - 1, estoque_inicial - demanda)\n",
    "    else:\n",
    "        custo = C_falta * (demanda - estoque_inicial) + recursao_com_memoizacao(n - 1, 0)\n",
    "    return custo\n"
   ]
  },
  {
   "cell_type": "code",
   "execution_count": null,
   "metadata": {},
   "outputs": [],
   "source": [
    "def memoization():\n",
    "    melhores_resultados = []\n",
    "    menor_custo = float('inf')\n",
    "    for estoque_inicial in range(1, 201):\n",
    "        custo = recursao_com_memoizacao(N, estoque_inicial)\n",
    "        if custo < menor_custo:\n",
    "            menor_custo = custo\n",
    "            melhores_resultados.append((estoque_inicial, custo))\n",
    "    return min(melhores_resultados, key=lambda x: x[1])\n"
   ]
  },
  {
   "cell_type": "code",
   "execution_count": null,
   "metadata": {},
   "outputs": [],
   "source": [
    "def monte_carlo(simulacoes=1000):\n",
    "    melhores_resultados = []\n",
    "    menor_custo = float('inf')\n",
    "    for estoque_inicial in range(1, 201):\n",
    "        custos_simulacao = []\n",
    "        for _ in range(simulacoes):\n",
    "            demanda_diaria = np.random.normal(mu, sigma, N).astype(int)\n",
    "            custo = calcular_custo(estoque_inicial, demanda_diaria)\n",
    "            custos_simulacao.append(custo)\n",
    "        custo_medio = np.mean(custos_simulacao)\n",
    "        if custo_medio < menor_custo:\n",
    "            menor_custo = custo_medio\n",
    "            melhores_resultados.append((estoque_inicial, custo_medio))\n",
    "    return min(melhores_resultados, key=lambda x: x[1])\n"
   ]
  },
  {
   "cell_type": "code",
   "execution_count": null,
   "metadata": {},
   "outputs": [],
   "source": [
    "# Força Bruta\n",
    "start = time.time()\n",
    "resultado_forca_bruta = forca_bruta()\n",
    "tempo_forca_bruta = time.time() - start\n",
    "\n",
    "# Dividir para Conquistar\n",
    "start = time.time()\n",
    "resultado_dividir = dividir_para_conquistar(N)\n",
    "tempo_dividir = time.time() - start\n",
    "\n",
    "# Memoization\n",
    "start = time.time()\n",
    "resultado_memoizacao = memoization()\n",
    "tempo_memoizacao = time.time() - start\n",
    "\n",
    "# Monte Carlo\n",
    "start = time.time()\n",
    "resultado_monte_carlo = monte_carlo()\n",
    "tempo_monte_carlo = time.time() - start\n",
    "\n",
    "# Exibir resultados\n",
    "print(f\"Força Bruta: Estoque inicial = {resultado_forca_bruta[0]}, Custo = {resultado_forca_bruta[1]}, Tempo = {tempo_forca_bruta:.4f}s\")\n",
    "print(f\"Dividir para Conquistar: Estoque inicial = {resultado_dividir[0]}, Custo = {resultado_dividir[1]}, Tempo = {tempo_dividir:.4f}s\")\n",
    "print(f\"Recursão com Memoização: Estoque inicial = {resultado_memoizacao[0]}, Custo = {resultado_memoizacao[1]}, Tempo = {tempo_memoizacao:.4f}s\")\n",
    "print(f\"Monte Carlo: Estoque inicial = {resultado_monte_carlo[0]}, Custo = {resultado_monte_carlo[1]}, Tempo = {tempo_monte_carlo:.4f}s\")\n",
    "\n",
    "# Plotar tempo de execução\n",
    "tempos = [tempo_forca_bruta, tempo_dividir, tempo_memoizacao, tempo_monte_carlo]\n",
    "labels = ['Força Bruta', 'Dividir para Conquistar', 'Memoização', 'Monte Carlo']"
   ]
  },
  {
   "cell_type": "code",
   "execution_count": null,
   "metadata": {},
   "outputs": [],
   "source": [
    "plt.barh(labels, tempos, color=['blue', 'orange', 'green', 'red'])\n",
    "plt.xlabel('Tempo (segundos)')\n",
    "plt.title('Comparação de Tempo de Execução')\n",
    "plt.show()"
   ]
  }
 ],
 "metadata": {
  "kernelspec": {
   "display_name": "Python 3",
   "language": "python",
   "name": "python3"
  },
  "language_info": {
   "codemirror_mode": {
    "name": "ipython",
    "version": 3
   },
   "file_extension": ".py",
   "mimetype": "text/x-python",
   "name": "python",
   "nbconvert_exporter": "python",
   "pygments_lexer": "ipython3",
   "version": "3.8.12"
  }
 },
 "nbformat": 4,
 "nbformat_minor": 2
}
